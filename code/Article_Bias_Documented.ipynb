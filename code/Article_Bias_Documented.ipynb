{
  "cells": [
    {
      "cell_type": "code",
      "execution_count": null,
      "metadata": {},
      "outputs": [],
      "source": [
        "import pandas as pd\n",
        "import numpy as np\n",
        "import os"
      ]
    },
    {
      "cell_type": "code",
      "execution_count": null,
      "metadata": {
        "id": "QUDf8ZW-R-jB"
      },
      "outputs": [],
      "source": [
        "raw_df = pd.read_csv(\"Article_Bias_Fallacy.csv\")\n",
        "raw_df['Bias'].value_counts()"
      ]
    },
    {
      "cell_type": "code",
      "execution_count": null,
      "metadata": {
        "id": "T_Yy2zWaSJuX"
      },
      "outputs": [],
      "source": [
        "raw_df.info()"
      ]
    },
    {
      "cell_type": "code",
      "execution_count": null,
      "metadata": {
        "id": "aMGi58j0SJq_"
      },
      "outputs": [],
      "source": [
        "biased_articles = list(raw_df[raw_df['Bias']==0].sample(10, random_state=42)['Content'])\n",
        "unbiased_articles = list(raw_df[raw_df['Bias']==1].sample(10, random_state=42)['Content'])"
      ]
    },
    {
      "cell_type": "code",
      "execution_count": null,
      "metadata": {
        "id": "SDs9MxozSJo0"
      },
      "outputs": [],
      "source": [
        "# If there are any bias type 2, change it to 0\n",
        "for i in range(len(raw_df)):\n",
        "  if raw_df['Bias'][i] == int(2):\n",
        "    raw_df['Bias'][i] = int(0)"
      ]
    },
    {
      "cell_type": "code",
      "execution_count": null,
      "metadata": {
        "id": "a7oKZVeeSJmt"
      },
      "outputs": [],
      "source": [
        "# Importing Necessary Libraries\n",
        "import nltk\n",
        "from nltk.tokenize import word_tokenize, sent_tokenize\n",
        "from nltk.corpus import stopwords\n",
        "from nltk.stem.snowball import SnowballStemmer\n",
        "from nltk.stem.wordnet import WordNetLemmatizer"
      ]
    },
    {
      "cell_type": "code",
      "execution_count": null,
      "metadata": {
        "id": "Gors8ut_SJkV"
      },
      "outputs": [],
      "source": [
        "nltk.download(\"wordnet\")\n",
        "nltk.download('omw-1.4')\n",
        "nltk.download('stopwords')\n",
        "nltk.download('punkt')"
      ]
    },
    {
      "cell_type": "code",
      "execution_count": null,
      "metadata": {
        "id": "1SdGFaiqSJh_"
      },
      "outputs": [],
      "source": [
        "def tokenize(text): # Tokenizing Function\n",
        "    return [word for word in word_tokenize(text) if word.isalpha()]"
      ]
    },
    {
      "cell_type": "code",
      "execution_count": null,
      "metadata": {
        "id": "4zn9O-zXSJfk"
      },
      "outputs": [],
      "source": [
        "# Initiating Stemming, Lemmatizing and stopwords\n",
        "stemmer = SnowballStemmer(language = 'english')\n",
        "lemmatizer = WordNetLemmatizer()\n",
        "eng_stopwords = stopwords.words(\"english\")"
      ]
    },
    {
      "cell_type": "code",
      "execution_count": null,
      "metadata": {
        "id": "lXQcLRADSJAe"
      },
      "outputs": [],
      "source": [
        "!pip install sentence-transformers"
      ]
    },
    {
      "cell_type": "code",
      "execution_count": null,
      "metadata": {
        "id": "YrDJPjc6S-Jx"
      },
      "outputs": [],
      "source": [
        "# To test the f1 scores with permutational addistion of different features\n",
        "raw1 = raw_df.drop(['Adhominem'], axis=1)\n",
        "raw2 = raw_df.drop(['Appeal'], axis=1)\n",
        "raw3 = raw_df.drop(['Hasty'], axis=1)\n",
        "raw4 = raw_df.drop(['Adhominem', 'Appeal'], axis=1)\n",
        "raw5 = raw_df.drop(['Adhominem', 'Hasty'], axis=1)\n",
        "raw6 = raw_df.drop(['Appeal', 'Hasty'], axis=1)\n",
        "raw7 = raw_df.drop(['Adhominem', 'Hasty', 'Appeal'], axis=1)"
      ]
    },
    {
      "cell_type": "code",
      "execution_count": null,
      "metadata": {
        "id": "W-HwFPwWTSBf"
      },
      "outputs": [],
      "source": [
        "def real_tokenize(text):\n",
        "    return [word for word in word_tokenize(text) if word.isalpha()]"
      ]
    },
    {
      "cell_type": "code",
      "execution_count": null,
      "metadata": {
        "id": "m-W7MOkAS-GV"
      },
      "outputs": [],
      "source": [
        "from sklearn.feature_extraction.text import TfidfVectorizer # Tf-idf feature addition\n",
        "vectorizer = TfidfVectorizer(tokenizer=real_tokenize, stop_words=eng_stopwords, ngram_range=(1, 2), max_features=2000)\n",
        "from sklearn.utils import shuffle\n",
        "# new_df = shuffle(sample_df, random_state = 42)\n",
        "new_df = shuffle(raw_df, random_state = 42)\n",
        "train_df = new_df[:int(len(new_df)*0.9)] # splitting data in train and test\n",
        "test_df = new_df[int(len(new_df)*0.9):]"
      ]
    },
    {
      "cell_type": "code",
      "execution_count": null,
      "metadata": {
        "id": "fYJPHDpBS-EM"
      },
      "outputs": [],
      "source": [
        "train_df = train_df.reset_index()\n",
        "train_df\n",
        "test_df = test_df.reset_index()\n",
        "test_df"
      ]
    },
    {
      "cell_type": "code",
      "execution_count": null,
      "metadata": {
        "id": "RgcilQjuS-CD"
      },
      "outputs": [],
      "source": [
        "vectorizer.fit(train_df.Content.values) # fitting the vectorizer\n",
        "train_inputs = vectorizer.transform(train_df.Content)\n",
        "test_inputs = vectorizer.transform(test_df.Content)"
      ]
    },
    {
      "cell_type": "code",
      "execution_count": null,
      "metadata": {
        "id": "eIGsIA-rS-AC"
      },
      "outputs": [],
      "source": [
        "for i in range(len(train_df)):\n",
        "  train_df['TF-IDF'][i] = sum(train_inputs.toarray()[i])/len(tokenize(train_df['Content'][i])) # Adding Tf-idf features\n",
        "for i in range(len(test_df)):\n",
        "  test_df['TF-IDF'][i] = sum(test_inputs.toarray()[i])/len(tokenize(train_df['Content'][i]))"
      ]
    },
    {
      "cell_type": "code",
      "execution_count": null,
      "metadata": {
        "id": "2xsjzHDQS994"
      },
      "outputs": [],
      "source": [
        "train_df['Sentiment_Score'] = train_df['Positive Sentiment Measure']-train_df['Negative Sentiment Measure']\n",
        "test_df['Sentiment_Score'] = test_df['Positive Sentiment Measure']-test_df['Negative Sentiment Measure'] # Only considering sentiment as a feature"
      ]
    },
    {
      "cell_type": "code",
      "execution_count": null,
      "metadata": {
        "id": "tL6voh6vS97w"
      },
      "outputs": [],
      "source": [
        "del train_df['Positive Sentiment Measure']\n",
        "del train_df['Negative Sentiment Measure']\n",
        "del test_df['Positive Sentiment Measure']\n",
        "del test_df['Negative Sentiment Measure']"
      ]
    },
    {
      "cell_type": "code",
      "execution_count": null,
      "metadata": {
        "id": "GOWNX8bhS95V"
      },
      "outputs": [],
      "source": [
        "train_df.info()"
      ]
    },
    {
      "cell_type": "code",
      "execution_count": null,
      "metadata": {
        "id": "9mMgx4vzS93V"
      },
      "outputs": [],
      "source": [
        "# train1 = train_df.iloc[:, 9]\n",
        "# test1 = test_df.iloc[:, 9]\n",
        "train_fallacy = train_df.iloc[:, 24:28] # Only taking fallacy features\n",
        "test_fallacy = test_df.iloc[:, 24:28]\n",
        "\n",
        "# train_df = pd.concat([train1, train2], axis=1)\n",
        "# test_df = pd.concat([test1, test2], axis=1)"
      ]
    },
    {
      "cell_type": "code",
      "execution_count": null,
      "metadata": {
        "id": "oXp8fRcDS90-"
      },
      "outputs": [],
      "source": [
        "# train1 = train_df.iloc[:, 9]\n",
        "# test1 = test_df.iloc[:, 9]\n",
        "train_persuasion = train_df.iloc[:, 23:24] # only taking persuasive features\n",
        "test_persuasion = test_df.iloc[:, 23:24]\n",
        "\n",
        "# train_df = pd.concat([train1, train2], axis=1)\n",
        "# test_df = pd.concat([test1, test2], axis=1)"
      ]
    },
    {
      "cell_type": "code",
      "execution_count": null,
      "metadata": {
        "id": "VCWDywPlS9yu"
      },
      "outputs": [],
      "source": [
        "# train1 = train_df.iloc[:, 9]\n",
        "train_args = train_df.iloc[:,20:22] # Only taking arguments features\n",
        "\n",
        "# test1 = test_df.iloc[:, 9]\n",
        "test_args = test_df.iloc[:,20:22]\n",
        "\n",
        "# train_df = pd.concat([train1, train2], axis=1)\n",
        "# test_df = pd.concat([test1, test2], axis=1)"
      ]
    },
    {
      "cell_type": "code",
      "execution_count": null,
      "metadata": {
        "id": "JFddNqElS9wj"
      },
      "outputs": [],
      "source": [
        "# train1 = train_df.iloc[:, 9]\n",
        "# test1 = test_df.iloc[:, 9]\n",
        "train_topic = train_df.iloc[:, 16:17] # only topic similarity features\n",
        "test_topic = test_df.iloc[:, 16:17]\n",
        "\n",
        "# train_df = pd.concat([train1, train2], axis=1)\n",
        "# test_df = pd.concat([test1, test2], axis=1)"
      ]
    },
    {
      "cell_type": "code",
      "execution_count": null,
      "metadata": {
        "id": "C6HEfEneS9uQ"
      },
      "outputs": [],
      "source": [
        "# only taking lexical features\n",
        "train1 = train_df.iloc[:, 10:16]\n",
        "train2 = train_df.iloc[:, 18:20]\n",
        "train3 = train_df.iloc[:, 22]\n",
        "train4 = train_df.iloc[:, 28]\n",
        "\n",
        "train_lex = pd.concat([train1, train2, train3, train4], axis=1)\n",
        "\n",
        "test1 = test_df.iloc[:, 10:16]\n",
        "test2 = test_df.iloc[:, 18:20]\n",
        "test3 = test_df.iloc[:, 22]\n",
        "test4 = test_df.iloc[:, 28]\n",
        "\n",
        "test_lex = pd.concat([test1, test2, test3, test4], axis=1)"
      ]
    },
    {
      "cell_type": "code",
      "execution_count": null,
      "metadata": {
        "id": "oQpbM0ExS9sH"
      },
      "outputs": [],
      "source": [
        "# only taking subective features\n",
        "train3 = train_df.iloc[:, 17]\n",
        "train4 = train_df.iloc[:, 29]\n",
        "train_sub = pd.concat([train3, train4], axis=1)\n",
        "\n",
        "test3 = test_df.iloc[:, 17]\n",
        "test4 = test_df.iloc[:, 29]\n",
        "test_sub = pd.concat([test3, test4], axis=1)"
      ]
    },
    {
      "cell_type": "code",
      "execution_count": null,
      "metadata": {
        "id": "5OYzKqDwS9p9"
      },
      "outputs": [],
      "source": [
        "\"\"\"\n",
        "The following cells depict to get the shap measures of group of features: firstly we need to create the groups by scaling and then doing PCA\n",
        "\"\"\""
      ]
    },
    {
      "cell_type": "code",
      "execution_count": null,
      "metadata": {
        "id": "bohipX6uS9ny"
      },
      "outputs": [],
      "source": [
        "from sklearn.preprocessing import StandardScaler\n",
        "\n",
        "sc = StandardScaler()\n",
        "train_subx = sc.fit_transform(train_sub)\n",
        "test_subx = sc.transform(test_sub)\n",
        "\n",
        "train_lexx = sc.fit_transform(train_lex)\n",
        "test_lexx = sc.transform(test_lex)\n",
        "\n",
        "train_persuasionx = sc.fit_transform(train_persuasion)\n",
        "test_persuasionx = sc.transform(test_persuasion)\n",
        "\n",
        "train_argsx = sc.fit_transform(train_args)\n",
        "test_argsx = sc.transform(test_args)\n",
        "\n",
        "train_topicx = sc.fit_transform(train_topic)\n",
        "test_topicx = sc.transform(test_topic)\n",
        "\n",
        "train_fallx = sc.fit_transform(train_fallacy)\n",
        "test_fallx = sc.transform(test_fallacy)"
      ]
    },
    {
      "cell_type": "code",
      "execution_count": null,
      "metadata": {
        "id": "jUJsslLiS9lt"
      },
      "outputs": [],
      "source": [
        "from sklearn.decomposition import PCA\n",
        "pca = PCA(n_components=1)\n",
        "\n",
        "pca_sub_train = pca.fit_transform(train_subx)\n",
        "pca_sub_test = pca.transform(test_subx)\n",
        "\n",
        "pca_lex_train = pca.fit_transform(train_lexx)\n",
        "pca_lex_test = pca.transform(test_lexx)\n",
        "\n",
        "pca_args_train = pca.fit_transform(train_argsx)\n",
        "pca_args_test = pca.transform(test_argsx)\n",
        "\n",
        "pca_persuasion_train = pca.fit_transform(train_persuasionx)\n",
        "pca_persuasion_test = pca.transform(test_persuasionx)\n",
        "\n",
        "pca_topic_train = pca.fit_transform(train_topicx)\n",
        "pca_topic_test = pca.transform(test_topicx)\n",
        "\n",
        "pca_fall_train = pca.fit_transform(train_fallx)\n",
        "pca_fall_test = pca.transform(test_fallx)"
      ]
    },
    {
      "cell_type": "code",
      "execution_count": null,
      "metadata": {
        "id": "r7uJhzcaS9jS"
      },
      "outputs": [],
      "source": [
        "\"\"\"\n",
        "Then we create Dataframes of train and test from these to get final 6 feature(group feature) based frame\n",
        "\"\"\""
      ]
    },
    {
      "cell_type": "code",
      "execution_count": null,
      "metadata": {
        "id": "djy3y1vCS9hI"
      },
      "outputs": [],
      "source": [
        "train_dict = {\"Fs\": list(pca_sub_train.flatten()), \"Fl\": list(pca_lex_train.flatten()), \"Fp\": list(pca_persuasion_train.flatten()), \"Fa\": list(pca_args_train.flatten()), \"Ff\": list(pca_fall_train.flatten()), \"Ft\": list(pca_topic_train.flatten())}\n",
        "test_dict = {\"Fs\": list(pca_sub_test.flatten()), \"Fl\": list(pca_lex_test.flatten()), \"Fp\": list(pca_persuasion_test.flatten()), \"Fa\": list(pca_args_test.flatten()), \"Ff\": list(pca_fall_test.flatten()), \"Ft\": list(pca_topic_test.flatten())}"
      ]
    },
    {
      "cell_type": "code",
      "execution_count": null,
      "metadata": {
        "id": "lVCz44eIUPYD"
      },
      "outputs": [],
      "source": [
        "train_in = pd.DataFrame(train_dict)\n",
        "test_in = pd.DataFrame(test_dict)"
      ]
    },
    {
      "cell_type": "code",
      "execution_count": null,
      "metadata": {
        "id": "B6uloG64UPUt"
      },
      "outputs": [],
      "source": [
        "train1 = train_df.iloc[:, 11:]\n",
        "test1 = test_df.iloc[:, 11:]\n",
        "raw1 = shuffle(pd.concat([train1, test1], axis = 0), random_state=2023)\n",
        "raw1.reset_index(inplace=True)"
      ]
    },
    {
      "cell_type": "code",
      "execution_count": null,
      "metadata": {
        "id": "hQa_NyyOUPTD"
      },
      "outputs": [],
      "source": [
        "train_df['Bias'].value_counts()"
      ]
    },
    {
      "cell_type": "code",
      "execution_count": null,
      "metadata": {
        "id": "XLv7hmpNUPRB"
      },
      "outputs": [],
      "source": [
        "# train_in = pd.concat([train_df.iloc[:,12:], train_df.iloc[:,29]], axis=1)\n",
        "# train_out = train_df.iloc[:, 11]\n",
        "# test_in = pd.concat([test_df.iloc[:,12:], test_df.iloc[:,29]], axis=1)\n",
        "# test_out = test_df.iloc[:, 11]\n",
        "# train_in = train_df.iloc[:, 1:]\n",
        "train_out = train_df.iloc[:,9] # only taking the outputs\n",
        "# test_in = test_df.iloc[:, 1:]\n",
        "test_out = test_df.iloc[:,9]"
      ]
    },
    {
      "cell_type": "code",
      "execution_count": null,
      "metadata": {
        "id": "Yd3uLRt9UPPA"
      },
      "outputs": [],
      "source": [
        "from sklearn.preprocessing import MinMaxScaler, StandardScaler\n",
        "import numpy as np"
      ]
    },
    {
      "cell_type": "code",
      "execution_count": null,
      "metadata": {
        "id": "Q3RP9f4LUPNK"
      },
      "outputs": [],
      "source": [
        "scaler = StandardScaler()\n",
        "scaler.fit(train_in.iloc[:, :])"
      ]
    },
    {
      "cell_type": "code",
      "execution_count": null,
      "metadata": {
        "id": "nV20QH5MUPK3"
      },
      "outputs": [],
      "source": [
        "train_in.iloc[:, :]= scaler.transform(train_in.iloc[:,:])\n",
        "train_in"
      ]
    },
    {
      "cell_type": "code",
      "execution_count": null,
      "metadata": {
        "id": "-Fh10kNTUPIu"
      },
      "outputs": [],
      "source": [
        "# test_arr = np.array(test_in)\n",
        "test_in.iloc[:, :] = scaler.transform(test_in.iloc[:,:])\n",
        "test_in"
      ]
    },
    {
      "cell_type": "code",
      "execution_count": null,
      "metadata": {
        "id": "VKfolBtFUPGm"
      },
      "outputs": [],
      "source": [
        "\"\"\"\n",
        "Some of these cells are for computing feature based attributes in biased and unbiased articles, you can see the graphs below\"\n",
        "\"\"\"\n",
        "import matplotlib.pyplot as plt"
      ]
    },
    {
      "cell_type": "code",
      "execution_count": null,
      "metadata": {
        "id": "lVUPYTjOUPEd"
      },
      "outputs": [],
      "source": [
        "features = np.array([\"WC\", \"QM\", \"FK\", \"GF\", \"DPL\",\t\"TS\",\t\"PS\",\t\"YK\", \"TF\"])"
      ]
    },
    {
      "cell_type": "code",
      "execution_count": null,
      "metadata": {
        "id": "OxrLEpHAUPCZ"
      },
      "outputs": [],
      "source": [
        "from sklearn.decomposition import PCA\n",
        "import matplotlib.pyplot as plt"
      ]
    },
    {
      "cell_type": "code",
      "execution_count": null,
      "metadata": {
        "id": "TC2DRs-8UPAC"
      },
      "outputs": [],
      "source": [
        "unbiased = raw1[raw1['Bias']==1].drop('Bias', axis = 1)\n",
        "biased = raw1[raw1['Bias']==0].drop('Bias', axis=1)"
      ]
    },
    {
      "cell_type": "code",
      "execution_count": null,
      "metadata": {
        "id": "k4GuY2-yUO9w"
      },
      "outputs": [],
      "source": [
        "pcafeab = PCA(n_components=1)\n",
        "pcafeab.fit(np.array(biased))\n",
        "# pcafeab.components_, pcafeab.explained_variance_ratio_\n",
        "# np.max(np.maximum(pcafeab.components_[0], pcafeab.components_[1]))\n",
        "pca_biased = np.square(pcafeab.components_[0])\n",
        "pca_biased = np.array([pca_biased[0], pca_biased[2], pca_biased[3], pca_biased[4], pca_biased[5], pca_biased[6], pca_biased[11], pca_biased[14], pca_biased[16]])\n",
        "# pcafeab.explained_variance_ratio_\n",
        "# pca_biased = np.mean(np.absolute(pcafeab.explained_variance_ratio_), axis=0)"
      ]
    },
    {
      "cell_type": "code",
      "execution_count": null,
      "metadata": {
        "id": "rkYAJqtsU_AM"
      },
      "outputs": [],
      "source": [
        "pcafeaub = PCA(n_components=1)\n",
        "pcafeaub.fit(np.array(unbiased))\n",
        "pca_unbiased = np.square(pcafeaub.components_[0])\n",
        "pca_unbiased = np.array([pca_unbiased[0], pca_unbiased[2], pca_unbiased[3], pca_unbiased[4], pca_unbiased[5], pca_unbiased[6], pca_unbiased[11], pca_unbiased[14], pca_unbiased[16]])\n",
        "pca_unbiased"
      ]
    },
    {
      "cell_type": "code",
      "execution_count": null,
      "metadata": {
        "id": "u-5UWPDwU-8m"
      },
      "outputs": [],
      "source": [
        "features = train_in.columns.tolist()\n",
        "vals = {}\n",
        "for i in range(len(features)):\n",
        "  vals[features[i]] = {'Biased':pca_biased[i], 'Unbiased':pca_unbiased[i]}"
      ]
    },
    {
      "cell_type": "code",
      "execution_count": null,
      "metadata": {
        "id": "c1SXR2rDU-6O"
      },
      "outputs": [],
      "source": [
        "feature_values = {\n",
        "    'Biased_Class' : list(pca_biased),\n",
        "    'Unbiased_Class' : list(pca_unbiased),\n",
        "}"
      ]
    },
    {
      "cell_type": "code",
      "execution_count": null,
      "metadata": {
        "id": "ud858NUlVOZs"
      },
      "outputs": [],
      "source": [
        "x = np.arange(len(features))  # the label locations\n",
        "width = 0.3  # the width of the bars\n",
        "multiplier = 0\n",
        "\n",
        "fig, ax = plt.subplots(layout='constrained')\n",
        "\n",
        "for attribute, measurement in feature_values.items():\n",
        "    offset = width * multiplier\n",
        "    rects = ax.bar(x + offset, measurement, width, label=attribute)\n",
        "    # ax.bar_label(rects, padding=5)\n",
        "    multiplier += 1\n",
        "\n",
        "ax.set_ylabel(\"Feature Attributes\")\n",
        "ax.set_title(\"Target Based Feature attributes for Article Dataset\")\n",
        "ax.set_xticks(x+width/2, features)\n",
        "ax.legend(loc='upper left', ncols=2)\n",
        "ax.set_ylim(0, 0.7)\n",
        "\n",
        "plt.show()"
      ]
    },
    {
      "cell_type": "markdown",
      "metadata": {
        "id": "buqbxSUGY3hx"
      },
      "source": [
        "![image.png](data:image/png;base64,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)"
      ]
    },
    {
      "cell_type": "code",
      "execution_count": null,
      "metadata": {
        "id": "RIRaKEOdVOWh"
      },
      "outputs": [],
      "source": [
        "import matplotlib.pyplot as plt\n",
        "plt.bar(features, pca_biased)"
      ]
    },
    {
      "cell_type": "markdown",
      "metadata": {
        "id": "GuZjKqdHZApn"
      },
      "source": [
        "![image.png](data:image/png;base64,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)"
      ]
    },
    {
      "cell_type": "code",
      "execution_count": null,
      "metadata": {
        "id": "VAaUjufYVOUZ"
      },
      "outputs": [],
      "source": [
        "plt.bar(features, pca_unbiased)"
      ]
    },
    {
      "cell_type": "markdown",
      "metadata": {
        "id": "pqpmHJriZGvp"
      },
      "source": [
        "![image.png](data:image/png;base64,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)"
      ]
    },
    {
      "cell_type": "code",
      "execution_count": null,
      "metadata": {
        "id": "RDbqr_XdVOSN"
      },
      "outputs": [],
      "source": [
        "pca = PCA(n_components=17)\n",
        "pca.fit(np.array(train_in))\n",
        "train_in = pca.transform(np.array(train_in))\n",
        "test_in = pca.transform(np.array(test_in))\n",
        "pca.explained_variance_ratio_"
      ]
    },
    {
      "cell_type": "code",
      "execution_count": null,
      "metadata": {
        "id": "kPuhz9FxVOQF"
      },
      "outputs": [],
      "source": [
        "\"\"\"\n",
        "These cells are for modelling\n",
        "\"\"\""
      ]
    },
    {
      "cell_type": "code",
      "execution_count": null,
      "metadata": {
        "id": "5hI9dRyHVONu"
      },
      "outputs": [],
      "source": [
        "from sklearn.linear_model import LogisticRegression\n",
        "from sklearn.svm import SVC\n",
        "from sklearn.ensemble import RandomForestClassifier\n",
        "from xgboost import XGBClassifier\n",
        "from sklearn.model_selection import cross_val_score, KFold, cross_val_predict\n",
        "from sklearn.metrics import f1_score, accuracy_score, make_scorer"
      ]
    },
    {
      "cell_type": "code",
      "execution_count": null,
      "metadata": {
        "id": "CuHsGKbSVOLr"
      },
      "outputs": [],
      "source": [
        "k=5\n",
        "kfold = KFold(n_splits=k, shuffle=True, random_state=42)\n",
        "scorer = make_scorer(f1_score, average='micro')"
      ]
    },
    {
      "cell_type": "code",
      "execution_count": null,
      "metadata": {
        "id": "GrvSMz0FVOJh"
      },
      "outputs": [],
      "source": [
        "model_LR = LogisticRegression(random_state=42)\n",
        "model_LR.fit(train_in, train_out)\n",
        "y_pred = cross_val_predict(model_LR, test_in, test_out, cv=kfold)\n",
        "scores = cross_val_score(model_LR, test_in, test_out, cv=kfold, scoring=scorer)\n",
        "f1_scores = f1_score(test_out, y_pred, average=None)\n",
        "print(\"Cross-validation micro F1 scores:\", scores)\n",
        "print(\"Mean F1 score:\", scores.mean())\n",
        "for class_idx, class_score in enumerate(f1_scores):\n",
        "    print(f\"Class {class_idx}: F1 scores - {class_score}\")"
      ]
    },
    {
      "cell_type": "code",
      "execution_count": null,
      "metadata": {
        "id": "qEHDVZa1VOHn"
      },
      "outputs": [],
      "source": [
        "model_RF = RandomForestClassifier(n_estimators=150, criterion = 'entropy', random_state=42)\n",
        "model_RF.fit(train_in, train_out)\n",
        "y_pred = cross_val_predict(model_RF, test_in, test_out, cv=kfold)\n",
        "scores = cross_val_score(model_RF, test_in, test_out, cv=kfold, scoring=scorer)\n",
        "f1_scores = f1_score(test_out, y_pred, average=None)\n",
        "print(\"Cross-validation micro F1 scores:\", scores)\n",
        "print(\"Mean micro F1 score:\", scores.mean())\n",
        "for class_idx, class_score in enumerate(f1_scores):\n",
        "    print(f\"Class {class_idx}: F1 scores - {class_score}\")"
      ]
    },
    {
      "cell_type": "code",
      "execution_count": null,
      "metadata": {
        "id": "kqq9wI9mVOFW"
      },
      "outputs": [],
      "source": [
        "model_svc = SVC(kernel='rbf', random_state=42, probability=True)\n",
        "model_svc.fit(train_in, train_out)\n",
        "y_pred = cross_val_predict(model_svc, test_in, test_out, cv=kfold)\n",
        "scores = cross_val_score(model_svc, test_in, test_out, cv=kfold, scoring=scorer)\n",
        "f1_scores = f1_score(test_out, y_pred, average=None)\n",
        "print(\"Cross-validation micro F1 scores:\", scores)\n",
        "print(\"Mean micro F1 score:\", scores.mean())\n",
        "for class_idx, class_score in enumerate(f1_scores):\n",
        "    print(f\"Class {class_idx}: F1 scores - {class_score}\")"
      ]
    },
    {
      "cell_type": "code",
      "execution_count": null,
      "metadata": {
        "id": "ZnmGFuZWVODX"
      },
      "outputs": [],
      "source": [
        "model_xgb = XGBClassifier(random_state=42)\n",
        "model_xgb.fit(train_in, train_out)\n",
        "y_pred = cross_val_predict(model_xgb, test_in, test_out, cv=kfold)\n",
        "scores = cross_val_score(model_xgb, test_in, test_out, cv=kfold, scoring=scorer)\n",
        "f1_scores = f1_score(test_out, y_pred, average=None)\n",
        "print(\"Cross-validation micro F1 scores:\", scores)\n",
        "print(\"Mean micro F1 score:\", scores.mean())\n",
        "for class_idx, class_score in enumerate(f1_scores):\n",
        "    print(f\"Class {class_idx}: F1 scores - {class_score}\")"
      ]
    },
    {
      "cell_type": "code",
      "execution_count": null,
      "metadata": {
        "id": "J3V3jIm0VOA8"
      },
      "outputs": [],
      "source": [
        "\"\"\"\n",
        "THe shap plots\n",
        "\"\"\""
      ]
    },
    {
      "cell_type": "code",
      "execution_count": null,
      "metadata": {
        "id": "NHBrIaGJVN-m"
      },
      "outputs": [],
      "source": [
        "import shap\n",
        "explainer = shap.Explainer(model_svc.predict_proba, test_in)\n",
        "shap_values = explainer(test_in)"
      ]
    },
    {
      "cell_type": "code",
      "execution_count": null,
      "metadata": {
        "id": "OBSKc-BwVN7-"
      },
      "outputs": [],
      "source": [
        "shap_values = shap_values[:,:,0] # For Biased Class\n",
        "# shap_values = shap_values[:,:,1] # For Unbiased Class"
      ]
    },
    {
      "cell_type": "code",
      "execution_count": null,
      "metadata": {
        "id": "XjeaEUeqVN5s"
      },
      "outputs": [],
      "source": [
        "lst = []\n",
        "for i in range(len(test_out)):\n",
        "  if test_out[i]==1:\n",
        "    lst.append(i)"
      ]
    },
    {
      "cell_type": "code",
      "execution_count": null,
      "metadata": {
        "id": "2ROQKQ5WVN2C"
      },
      "outputs": [],
      "source": [
        "shap.summary_plot(shap_values, plot_type='violin')"
      ]
    },
    {
      "cell_type": "code",
      "execution_count": null,
      "metadata": {
        "id": "pQtW_C46VN0M"
      },
      "outputs": [],
      "source": [
        "shap.plots.beeswarm(shap_values)"
      ]
    },
    {
      "cell_type": "code",
      "execution_count": null,
      "metadata": {
        "id": "WToWEdRIVNyH"
      },
      "outputs": [],
      "source": [
        "import random\n",
        "# random_indices = random.sample(range(150), 10)\n",
        "random_indices = random.sample(lst, 5)\n",
        "random_indices"
      ]
    },
    {
      "cell_type": "code",
      "execution_count": null,
      "metadata": {
        "id": "SJVq6gLCVNv4"
      },
      "outputs": [],
      "source": [
        "shap.initjs()\n",
        "shap.plots.force(shap_values[98], show=False, matplotlib=True).savefig(\"force_biased1.png\")\n",
        "# plt.savefig(\"force_biased1.png\")"
      ]
    },
    {
      "cell_type": "code",
      "execution_count": null,
      "metadata": {
        "id": "-B1rOm5GVNts"
      },
      "outputs": [],
      "source": [
        "shap.initjs()\n",
        "shap.plots.force(shap_values[7], show=False, matplotlib=True).savefig(\"force_biased2.png\")\n"
      ]
    },
    {
      "cell_type": "code",
      "execution_count": null,
      "metadata": {
        "id": "kiQgxMneVNrc"
      },
      "outputs": [],
      "source": [
        "shap.initjs()\n",
        "shap.plots.force(shap_values[110], show=False, matplotlib=True).savefig(\"force_biased3.png\")\n"
      ]
    },
    {
      "cell_type": "code",
      "execution_count": null,
      "metadata": {
        "id": "HN0cH01lVNpN"
      },
      "outputs": [],
      "source": [
        "shap.initjs()\n",
        "shap.plots.force(shap_values[148], show=False, matplotlib=True).savefig(\"force_biased5.png\")\n"
      ]
    },
    {
      "cell_type": "code",
      "execution_count": null,
      "metadata": {
        "id": "wfMAY539VNm-"
      },
      "outputs": [],
      "source": [
        "shap.summary_plot(shap_values, test_in)\n",
        "plt.savefig(\"shap_beeswarm_plot.svg\", format='svg', bbox_inches='tight')\n",
        "cairosvg.svg2eps(url=\"shap_beeswarm_plot.svg\", write_to=\"shap_beeswarm_plot.eps\")\n",
        "plt.clf()"
      ]
    },
    {
      "cell_type": "code",
      "execution_count": null,
      "metadata": {
        "id": "kCVKwlLwVNkU"
      },
      "outputs": [],
      "source": [
        "shap.plots.bar(shap_values, max_display=20)"
      ]
    },
    {
      "cell_type": "code",
      "execution_count": null,
      "metadata": {
        "id": "ZK__6WQkVNh9"
      },
      "outputs": [],
      "source": [
        "for x in random_indices:\n",
        "    shap.plots.waterfall(shap_values[x], max_display=20)"
      ]
    },
    {
      "cell_type": "code",
      "execution_count": null,
      "metadata": {
        "id": "hT4WHB_nW1Dr"
      },
      "outputs": [],
      "source": [
        "\"\"\"\n",
        "For Bertopic and Keybert related feature addition, you can use below code to add them.\n",
        "\n",
        "\"\"\""
      ]
    },
    {
      "cell_type": "code",
      "execution_count": null,
      "metadata": {
        "id": "YWrvD6IZW1Aj"
      },
      "outputs": [],
      "source": [
        "!pip install keybert\n",
        "!pip install keybert[flair]\n",
        "!pip install keybert[gensim]\n",
        "!pip install keybert[spacy]\n",
        "!pip install keybert[use]\n",
        "!pip install bertopic\n",
        "!pip install bertopic[flair, gensim, spacy, use]\n",
        "!pip install tensorflow-probability==0.24.0\n",
        "!pip install tensorflow-keras"
      ]
    },
    {
      "cell_type": "code",
      "execution_count": null,
      "metadata": {
        "id": "10bQzSjSW0-g"
      },
      "outputs": [],
      "source": [
        "from keybert import KeyBERT\n",
        "from bertopic import BERTopic\n",
        "import nltk\n",
        "nltk.download('punkt')\n",
        "nltk.download('stopwords')\n",
        "nltk.download('averaged_perceptron_tagger')\n",
        "import nltk\n",
        "from nltk.tokenize import word_tokenize, sent_tokenize\n",
        "from nltk.corpus import stopwords\n",
        "from nltk.stem.snowball import SnowballStemmer\n",
        "from nltk.stem.wordnet import WordNetLemmatizer\n",
        "nltk.download(\"wordnet\")\n",
        "nltk.download('omw-1.4')\n",
        "nltk.download('stopwords')\n",
        "nltk.download('punkt')\n",
        "stemmer = SnowballStemmer(language = 'english')\n",
        "lemmatizer = WordNetLemmatizer()\n",
        "eng_stopwords = stopwords.words(\"english\")"
      ]
    },
    {
      "cell_type": "code",
      "execution_count": null,
      "metadata": {
        "id": "9oLcWf3ZW08M"
      },
      "outputs": [],
      "source": [
        "import numpy as np\n",
        "import pandas as pd\n",
        "\n",
        "article_df = pd.read_csv(\"/content/Article_Bias_Fallacy.csv\")"
      ]
    },
    {
      "cell_type": "code",
      "execution_count": null,
      "metadata": {
        "id": "hKQlteCZW06H"
      },
      "outputs": [],
      "source": [
        "biased_doc = article_df[article_df['Bias']==0]['Content']\n",
        "unbiased_doc = article_df[article_df[\"Bias\"]==1]['Content']"
      ]
    },
    {
      "cell_type": "code",
      "execution_count": null,
      "metadata": {
        "id": "mHCO3pBqW04L"
      },
      "outputs": [],
      "source": [
        "from sentence_transformers import SentenceTransformer\n",
        "\n",
        "model = SentenceTransformer('bert-base-nli-mean-tokens')"
      ]
    },
    {
      "cell_type": "code",
      "execution_count": null,
      "metadata": {
        "id": "Ssu4qFscW018"
      },
      "outputs": [],
      "source": [
        "aux_verbs = {'be', 'am', 'is', 'are', 'was', 'were', 'been', 'being',\n",
        "             'do', 'does', 'did', 'done', 'doing',\n",
        "             'have', 'has', 'had', 'having',\n",
        "             'shall', 'will', 'should', 'would',\n",
        "             'may', 'might', 'must', 'can', 'could', 'say', 'said', 'tell', 'told', 'says', 'tells'}"
      ]
    },
    {
      "cell_type": "code",
      "execution_count": null,
      "metadata": {
        "id": "IsGRbV02W00A"
      },
      "outputs": [],
      "source": [
        "biased_no_stopwords = [' '.join([word for word in doc.split() if word.lower() not in eng_stopwords and word.lower() not in aux_verbs]) for doc in biased_doc]\n",
        "unbiased_no_stopwords = [' '.join([word for word in doc.split() if word.lower() not in eng_stopwords and word.lower() not in aux_verbs]) for doc in unbiased_doc]"
      ]
    },
    {
      "cell_type": "code",
      "execution_count": null,
      "metadata": {
        "id": "HjcH2_o6W0x5"
      },
      "outputs": [],
      "source": [
        "topic_model = BERTopic(top_n_words=20)\n",
        "topics, probs = topic_model.fit_transform(unbiased_no_stopwords)"
      ]
    },
    {
      "cell_type": "code",
      "execution_count": null,
      "metadata": {
        "id": "yZE5lB8uW0v1"
      },
      "outputs": [],
      "source": [
        "topic_model.get_topic_info()"
      ]
    },
    {
      "cell_type": "code",
      "execution_count": null,
      "metadata": {
        "id": "S9TNSqW0W0oh"
      },
      "outputs": [],
      "source": [
        "biased_bertopic = topic_model.get_document_info(biased_doc)\n",
        "unbiased_bertopic = topic_model.get_document_info(unbiased_doc)\n",
        "biased_topics = list(biased_bertopic.Topic.unique())\n",
        "unbiased_topics = list(unbiased_bertopic.Topic.unique())"
      ]
    },
    {
      "cell_type": "code",
      "execution_count": null,
      "metadata": {
        "id": "D1XM85ohX3Ho"
      },
      "outputs": [],
      "source": [
        "biased_texts = {}\n",
        "unbiased_texts = {}\n",
        "\n",
        "for i in range(len(biased_bertopic)):\n",
        "  if biased_bertopic['Topic'][i] not in biased_texts.keys():\n",
        "    biased_texts[biased_bertopic['Topic'][i]] = biased_bertopic['Document'][i]\n",
        "  else:\n",
        "    biased_texts[biased_bertopic['Topic'][i]] += \"\\n\\n\" + biased_bertopic['Document'][i]\n",
        "\n",
        "for i in range(len(unbiased_bertopic)):\n",
        "  if unbiased_bertopic['Topic'][i] not in unbiased_texts.keys():\n",
        "    unbiased_texts[unbiased_bertopic['Topic'][i]] = unbiased_bertopic['Document'][i]\n",
        "  else:\n",
        "    unbiased_texts[unbiased_bertopic['Topic'][i]] += \"\\n\\n\" + unbiased_bertopic['Document'][i]"
      ]
    },
    {
      "cell_type": "code",
      "execution_count": null,
      "metadata": {
        "id": "c1N-7cEzX3EB"
      },
      "outputs": [],
      "source": [
        "kw_model = KeyBERT()"
      ]
    },
    {
      "cell_type": "code",
      "execution_count": null,
      "metadata": {
        "id": "Qa-I6hqEX3CK"
      },
      "outputs": [],
      "source": [
        "def size2keyphrase(text):\n",
        "  keys2 = kw_model.extract_keywords(text, keyphrase_ngram_range=(2, 2), stop_words=eng_stopwords, top_n=10)\n",
        "  return [word[0] for word in keys2], keys2"
      ]
    },
    {
      "cell_type": "code",
      "execution_count": null,
      "metadata": {
        "id": "Lps3ISwhX3AD"
      },
      "outputs": [],
      "source": [
        "def size3keyphrase(text):\n",
        "  keys3 = kw_model.extract_keywords(text, keyphrase_ngram_range=(3, 3), stop_words=eng_stopwords, top_n=10)\n",
        "  return [word[0] for word in keys3], keys3"
      ]
    },
    {
      "cell_type": "code",
      "execution_count": null,
      "metadata": {
        "id": "BVSDgEiwX227"
      },
      "outputs": [],
      "source": [
        "size2keyphrase(biased_texts[0])"
      ]
    },
    {
      "cell_type": "code",
      "execution_count": null,
      "metadata": {
        "id": "brrJvfwYYR3e"
      },
      "outputs": [],
      "source": [
        "biased_topics = list(biased_texts.keys())\n",
        "unbiased_topics = list(unbiased_texts.keys())\n",
        "\n",
        "biased_2keys = []\n",
        "unbiased_2keys = []\n",
        "biased_3keys = []\n",
        "unbiased_3keys = []\n",
        "\n",
        "biased_2keys_scores = []\n",
        "unbiased_2keys_scores = []\n",
        "biased_3keys_scores = []\n",
        "unbiased_3keys_scores = []\n",
        "\n",
        "\n",
        "for i in biased_texts.keys():\n",
        "  ret = size2keyphrase(biased_texts[i])\n",
        "  biased_2keys.append(ret[0])\n",
        "  biased_2keys_scores.append(ret[1])\n",
        "for i in unbiased_texts.keys():\n",
        "  ret = size2keyphrase(unbiased_texts[i])\n",
        "  unbiased_2keys.append(ret[0])\n",
        "  unbiased_2keys_scores.append(ret[1])\n",
        "for i in biased_texts.keys():\n",
        "  ret = size3keyphrase(biased_texts[i])\n",
        "  biased_3keys.append(ret[0])\n",
        "  biased_3keys_scores.append(ret[1])\n",
        "for i in unbiased_texts.keys():\n",
        "  ret = size3keyphrase(unbiased_texts[i])\n",
        "  unbiased_3keys.append(ret[0])\n",
        "  unbiased_3keys_scores.append(ret[1])"
      ]
    },
    {
      "cell_type": "code",
      "execution_count": null,
      "metadata": {
        "id": "O1_DbR0hYR0J"
      },
      "outputs": [],
      "source": [
        "biased_2keys_df = pd.DataFrame({'Topic Id': biased_topics, 'Biased_Size_2_KeyPhrases': biased_2keys, 'Biased_Size_2_Phrase_Scores': biased_2keys_scores})\n",
        "biased_3keys_df = pd.DataFrame({'Topic Id': biased_topics, 'Biased_Size_3_KeyPhrases': biased_3keys, 'Biased_Size_3_Phrase_Scores': biased_3keys_scores})\n",
        "unbiased_2keys_df = pd.DataFrame({'Topic Id': unbiased_topics, 'Unbiased_Size_2_KeyPhrases': unbiased_2keys, 'Unbiased_Size_2_Phrase_Scores': unbiased_2keys_scores})\n",
        "unbiased_3keys_df = pd.DataFrame({'Topic Id': unbiased_topics, 'Unbiased_Size_3_KeyPhrases': unbiased_3keys, 'Unbiased_Size_3_Phrase_Scores': unbiased_3keys_scores})\n"
      ]
    },
    {
      "cell_type": "code",
      "execution_count": null,
      "metadata": {
        "id": "_WxT1dklYRyg"
      },
      "outputs": [],
      "source": [
        "biased_2keys_df.to_csv(\"Biased-KeyPhrases-Size2.csv\")\n",
        "biased_3keys_df.to_csv(\"Biased-KeyPhrases-Size3.csv\")\n",
        "unbiased_2keys_df.to_csv(\"Unbiased-KeyPhrases-Size2.csv\")\n",
        "unbiased_3keys_df.to_csv(\"Unbiased-KeyPhrases-Size3.csv\")"
      ]
    },
    {
      "cell_type": "code",
      "execution_count": null,
      "metadata": {
        "id": "JZlebE7eYRw-"
      },
      "outputs": [],
      "source": [
        "biased_2keys = {int(key): value for key, value in biased_2keys.items()}\n",
        "biased_3keys = {int(key): value for key, value in biased_3keys.items()}\n",
        "unbiased_2keys = {int(key): value for key, value in unbiased_2keys.items()}\n",
        "unbiased_3keys = {int(key): value for key, value in unbiased_3keys.items()}"
      ]
    },
    {
      "cell_type": "code",
      "execution_count": null,
      "metadata": {
        "id": "P-TJ1hN-YRu0"
      },
      "outputs": [],
      "source": [
        "import json\n",
        "\n",
        "with open('biased_size2_keys.json', 'w') as json_file:\n",
        "    json.dump(biased_2keys, json_file)\n",
        "with open('biased_size3_keys.json', 'w') as json_file:\n",
        "    json.dump(biased_3keys, json_file)\n",
        "with open('unbiased_size2_keys.json', 'w') as json_file:\n",
        "    json.dump(unbiased_2keys, json_file)\n",
        "with open('unbiased_size3_keys.json', 'w') as json_file:\n",
        "    json.dump(unbiased_3keys, json_file)"
      ]
    },
    {
      "cell_type": "code",
      "execution_count": null,
      "metadata": {
        "id": "OqmxSZhhYRse"
      },
      "outputs": [],
      "source": []
    },
    {
      "cell_type": "code",
      "execution_count": null,
      "metadata": {
        "id": "E3nT0uKqYRqr"
      },
      "outputs": [],
      "source": []
    },
    {
      "cell_type": "code",
      "execution_count": null,
      "metadata": {
        "id": "U6LAHpfLYRot"
      },
      "outputs": [],
      "source": []
    }
  ],
  "metadata": {
    "colab": {
      "provenance": []
    },
    "kernelspec": {
      "display_name": "Python 3",
      "name": "python3"
    },
    "language_info": {
      "name": "python"
    }
  },
  "nbformat": 4,
  "nbformat_minor": 0
}
